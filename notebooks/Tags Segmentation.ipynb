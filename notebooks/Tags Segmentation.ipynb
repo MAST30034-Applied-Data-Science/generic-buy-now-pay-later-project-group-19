{
 "cells": [
  {
   "cell_type": "markdown",
   "id": "cf0ccf54",
   "metadata": {},
   "source": [
    "# Categorising Tags into Segments\n",
    "\n",
    "This notebook details how the tags are segmented. In future, when more tags appear, we can add them into the segment and generate a new `segment.json` file."
   ]
  },
  {
   "cell_type": "code",
   "execution_count": 23,
   "id": "2093c217",
   "metadata": {},
   "outputs": [],
   "source": [
    "import pandas as pd\n",
    "import numpy as np\n",
    "import json\n",
    "from pyspark.sql import SparkSession, DataFrame\n",
    "\n",
    "# Set working directory to root directory\n",
    "path = os.path.normpath(os.getcwd())\n",
    "if path.split(os.sep)[-1] != 'generic-buy-now-pay-later-project-group-19':\n",
    "    os.chdir(\"..\")\n",
    "\n",
    "spark = (\n",
    "        SparkSession.builder.appName(\"MAST30034 Project 2\")\n",
    "        .config(\"spark.sql.repl.eagerEval.enabled\", True) \n",
    "        .config(\"spark.sql.parquet.cacheMetadata\", \"true\")\n",
    "        .config(\"spark.sql.session.timeZone\", \"Etc/UTC\")\n",
    "        .config(\"spark.driver.memory\", \"4g\")\n",
    "        .getOrCreate()\n",
    "    )"
   ]
  },
  {
   "cell_type": "markdown",
   "id": "8ae95a5c",
   "metadata": {},
   "source": [
    "# Tags from Merchant Profile Data"
   ]
  },
  {
   "cell_type": "code",
   "execution_count": 9,
   "id": "f5654de7",
   "metadata": {},
   "outputs": [],
   "source": [
    "merchants_with_tags = spark.read.parquet(\"../data/curated/merchants_with_tags\")"
   ]
  },
  {
   "cell_type": "code",
   "execution_count": 19,
   "id": "d91ba46e",
   "metadata": {},
   "outputs": [
    {
     "data": {
      "text/plain": [
       "['antique_shop_sale',\n",
       " 'appliance_rent_leasing',\n",
       " 'art_dealer_gallery',\n",
       " 'artist_supply_craft_shop',\n",
       " 'bicycle_shop_sale_service',\n",
       " 'book',\n",
       " 'cable',\n",
       " 'card',\n",
       " 'clock',\n",
       " 'computer',\n",
       " 'computer_peripheral_equipment',\n",
       " 'computer_programming',\n",
       " 'data_processing',\n",
       " 'digital_good_book',\n",
       " 'equipment',\n",
       " 'except_appliance',\n",
       " 'eyeglass',\n",
       " 'flower',\n",
       " 'forest_supply',\n",
       " 'furniture',\n",
       " 'gift',\n",
       " 'health_beauty_spa',\n",
       " 'hobby',\n",
       " 'home_furnishing_equipment_shop',\n",
       " 'including_nursery',\n",
       " 'integrated_system_design_service',\n",
       " 'jewelry',\n",
       " 'jewelry_repair_shop',\n",
       " 'lawn_garden_supply_outlet',\n",
       " 'manufacturer',\n",
       " 'motor_vehicle_supply_new_part',\n",
       " 'movie',\n",
       " 'music',\n",
       " 'music_shop_musical_instrument',\n",
       " 'newspaper',\n",
       " 'novelty',\n",
       " 'nursery_stock',\n",
       " 'office_supply_printing_writing_paper',\n",
       " 'optical_good',\n",
       " 'optician',\n",
       " 'pay_television_radio_service',\n",
       " 'periodical',\n",
       " 'piano',\n",
       " 'repair',\n",
       " 'restoration_service',\n",
       " 'satellite',\n",
       " 'sheet_music',\n",
       " 'shoe_shop',\n",
       " 'silverware_shop',\n",
       " 'software',\n",
       " 'souvenir_shop',\n",
       " 'stationery',\n",
       " 'telecom',\n",
       " 'tent_owning_shop',\n",
       " 'tool',\n",
       " 'toy_game_shop',\n",
       " 'watch']"
      ]
     },
     "execution_count": 19,
     "metadata": {},
     "output_type": "execute_result"
    }
   ],
   "source": [
    "# Show all tags from merchants profile data\n",
    "tags = merchants_with_tags.columns[4:]\n",
    "tags"
   ]
  },
  {
   "cell_type": "code",
   "execution_count": 14,
   "id": "66323b95",
   "metadata": {},
   "outputs": [
    {
     "name": "stdout",
     "output_type": "stream",
     "text": [
      "Total number of tags: 57\n"
     ]
    }
   ],
   "source": [
    "# Find total number of tags\n",
    "print(f\"Total number of tags: {len(merchants_with_tags.columns[4:])}\")"
   ]
  },
  {
   "cell_type": "markdown",
   "id": "43262908",
   "metadata": {},
   "source": [
    "# Tag Segmentation\n",
    "## <a name=\"definitions\"></a>Defining Segments\n",
    "\n",
    "There are industries that experience **high growth during an economic boom** but **suffer tremendously during recession**. We call these **recession-vulnerable industries** and an example of this would be retail, hospitality and leisure industries. On the other hand, tech industry and repair industry are generally **recession-proof** as they have grown to be essentials in our daily life. As part of our diversification strategy, we aim to segment merchants into the following categories:\n",
    "\n",
    "Credits: [CNBC: Industries Hit Hardest by Recession!](https://www.cnbc.com/2012/06/01/Industries-Hit-Hardest-by-the-Recession.html), [Forbes: What Industries Do Well In An L-Shaped Recession?](https://www.forbes.com/sites/qai/2022/08/12/what-industries-do-well-in-an-l-shaped-recession/?sh=2a12dd68404e)\n",
    "\n",
    "<br>\n",
    "<br>\n",
    "\n",
    "- ### Recession-vulnerable industries:\n",
    "    - **Luxury Goods** - High value per order and non-service oriented industry such as jewelry and arts. This category should see **low returning customer** and vip customer rate as well as relatively **high variance in customer spendings**.\n",
    "    - **Leisure Goods** - Hobbies, toys, books as well as outdoor activities essentials. Generally **high variance in customer spendings**.\n",
    "    - **Home Furnishings** - Home furnishing industry. This industry should see **high value per order** but **moderate to low order quantities**.\n",
    "    - **Gifts & Souvenir** - Gifts, flowers, souvenir, etc industry. Generally **low value per order** but **high order quantities**.\n",
    "    - **Clothing & Accessories** - Fashion and accessories industry.\n",
    "    - **Office Equipments** - Office supplies, stationery etc.\n",
    "<br>\n",
    "<br>\n",
    "\n",
    "- ### Recession-proof industries:\n",
    "    - **Repair Services** - General repair services industry. This industry should see high **value per order** and generally **high order quantities** as well.\n",
    "    - **Technology & Telecommunication** - electronic devices, telecommunication, systems and software-related industry. Generally **high daily revenue** and **high order quantities** due to how big the market is.\n",
    "    - **Motor & Bicycles** - Motor, bicycle supplies and parts. \n",
    "    - **Health & Wellness** - Health related services.\n",
    "   \n",
    "<br>"
   ]
  },
  {
   "cell_type": "code",
   "execution_count": 17,
   "id": "2617c9ed",
   "metadata": {},
   "outputs": [],
   "source": [
    "# Industry to tags dictionary (RV = Recession-Vulnerable, RP = Recession-Proof)\n",
    "rv_ind = {'luxury goods':['art_dealer_gallery','antique_shop_sale','jewelry','silverware_shop'],\n",
    "          'leisure goods and services':['artist_supply_craft_shop','book','digital_good_book','hobby',\\\n",
    "                                         'music_shop_musical_instrument', 'newspaper', \\\n",
    "                                         'novelty', 'periodical', 'piano','sheet_music','toy_game_shop',\\\n",
    "                                         'forest_supply','movie', 'music','tent_owning_shop'],\n",
    "          'home furnishings':['furniture','home_furnishing_equipment_shop','nursery_stock',\\\n",
    "                                'including_nursery','lawn_garden_supply_outlet'],\n",
    "          'gifts souvenirs':['card','flower','forest_supply','gift','souvenir_shop'],\n",
    "          'clothing and accessories':['watch','shoe_shop'],\n",
    "          'office equipments':['office_supply_printing_writing_paper','stationery']}\n",
    "\n",
    "rp_ind = {'repair services':['repair', 'restoration_service','jewelry_repair_shop'],\n",
    "          'tech and telecom':['computer', 'computer_peripheral_equipment','computer_programming', \\\n",
    "                              'data_processing','integrated_system_design_service','pay_television_radio_service',\\\n",
    "                              'satellite','telecom','software','cable'],\n",
    "          'motor and bicycles':['bicycle_shop_sale_service','motor_vehicle_supply_new_part'],\n",
    "          'health and wellness':['optical_good', 'optician','eyeglass','health_beauty_spa']}\n",
    "\n",
    "ind = {**rv_ind, **rp_ind}"
   ]
  },
  {
   "cell_type": "code",
   "execution_count": 20,
   "id": "4847dfef",
   "metadata": {},
   "outputs": [],
   "source": [
    "# Other tags will fall under miscellaneour\n",
    "cat = []\n",
    "for item in rv_ind.keys():\n",
    "    cat += rv_ind[item]\n",
    "    \n",
    "for item in rp_ind.keys():\n",
    "    cat += rp_ind[item]\n",
    "    \n",
    "cat = set(cat)\n",
    "\n",
    "ind['miscellaneous'] = list(set(tags) - cat)"
   ]
  },
  {
   "cell_type": "markdown",
   "id": "1359d086",
   "metadata": {},
   "source": [
    "# Save to Segment.json"
   ]
  },
  {
   "cell_type": "code",
   "execution_count": 25,
   "id": "1206f325",
   "metadata": {},
   "outputs": [],
   "source": [
    "with open('./data/curated/segments.json', 'w') as f:\n",
    "    json.dump(ind, f)"
   ]
  }
 ],
 "metadata": {
  "kernelspec": {
   "display_name": "Python 3",
   "language": "python",
   "name": "python3"
  },
  "language_info": {
   "codemirror_mode": {
    "name": "ipython",
    "version": 3
   },
   "file_extension": ".py",
   "mimetype": "text/x-python",
   "name": "python",
   "nbconvert_exporter": "python",
   "pygments_lexer": "ipython3",
   "version": "3.7.4"
  }
 },
 "nbformat": 4,
 "nbformat_minor": 5
}
