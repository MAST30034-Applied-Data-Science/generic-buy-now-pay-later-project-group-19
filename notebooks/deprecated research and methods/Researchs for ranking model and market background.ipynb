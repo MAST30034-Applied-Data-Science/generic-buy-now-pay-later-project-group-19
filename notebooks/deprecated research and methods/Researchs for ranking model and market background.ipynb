{
 "cells": [
  {
   "cell_type": "markdown",
   "id": "42e5372a",
   "metadata": {},
   "source": [
    "# External Market Research"
   ]
  },
  {
   "cell_type": "markdown",
   "id": "84aced98",
   "metadata": {},
   "source": [
    "### We’ve researched some external market circumstances in terms of industry segmentations, BNPL firms, financial services, and credit risk models.\n",
    "\n",
    "\n",
    "### Through this, we could understand how the market flows and finally narrowed down the industries segment.\n"
   ]
  },
  {
   "cell_type": "markdown",
   "id": "87188441",
   "metadata": {},
   "source": [
    "#### BNPL firms\n",
    "https://papers.ssrn.com/sol3/Papers.cfm?abstract_id=4066695"
   ]
  },
  {
   "cell_type": "markdown",
   "id": "4542d8bf",
   "metadata": {},
   "source": [
    "#### Financial credit risk model\n",
    "https://myjms.mohe.gov.my/index.php/ijbec/article/view/19615\n",
    "\n",
    "https://www.mdpi.com/2071-1050/13/4/1992\n",
    "\n",
    "https://www.sciencedirect.com/science/article/pii/S2212567115004529\n",
    "\n",
    "https://www.researchgate.net/publication/228576362_Risk_Contributions_of_Systematic_Factors_in_Portfolio_Credit_Risk_Models"
   ]
  },
  {
   "cell_type": "markdown",
   "id": "f4761ac8",
   "metadata": {},
   "source": [
    "#### segmentation\n",
    "https://www.cnbc.com/2012/06/01/Industries-Hit-Hardest-by-the-Recession.html\n",
    "\n",
    "https://www.forbes.com/sites/qai/2022/08/12/what-industries-do-well-in-an-l-shaped-recession/?sh=268b198f404e\n",
    "\n",
    "https://simplywall.st/markets/us/consumer-discretionary/leisure/leisure-products\n",
    "\n",
    "https://www.statista.com/outlook/dmo/ecommerce/furniture/australia\n",
    "\n",
    "https://www.marketwatch.com/press-release/personalized-gifts-market-is-estimated-to-accelerate-industry-growth-in-consumer-goods-sector-with-top-key-players-till-2028-no-of-pages-107-2022-09-28\n",
    "\n",
    "https://simplywall.st/markets/au/tech"
   ]
  },
  {
   "cell_type": "code",
   "execution_count": null,
   "id": "a6452319",
   "metadata": {},
   "outputs": [],
   "source": []
  },
  {
   "cell_type": "markdown",
   "id": "55b75f78",
   "metadata": {},
   "source": [
    "# Research about ranking models"
   ]
  },
  {
   "cell_type": "markdown",
   "id": "7a6fa4d8",
   "metadata": {},
   "source": [
    "### We've researched a lot of ranking systems and models.\n",
    "### However, these ranking models were not adequate, because of the difference in the direction of which our ranking system wants to be made.\n",
    "### Also, we didn't have the test set to be tested."
   ]
  },
  {
   "cell_type": "markdown",
   "id": "3c893756",
   "metadata": {},
   "source": [
    "#### Research paper – ranking system\n",
    "https://direct.mit.edu/qss/article/2/1/335/97568/The-rank-boost-by-inconsistency-in-university"
   ]
  },
  {
   "cell_type": "markdown",
   "id": "f7d41a5e",
   "metadata": {},
   "source": [
    "### Ranking models"
   ]
  },
  {
   "cell_type": "markdown",
   "id": "16124c33",
   "metadata": {},
   "source": [
    "###### RankBoost \n",
    "https://jmlr.csail.mit.edu/papers/volume4/freund03a/freund03a.pdf\n",
    "    \n",
    "https://direct.mit.edu/qss/article/2/1/335/97568/The-rank-boost-by-inconsistency-in-university\n",
    "\n",
    "https://www.jmlr.org/papers/volume4/freund03a/freund03a.pdf"
   ]
  },
  {
   "cell_type": "markdown",
   "id": "15c90a03",
   "metadata": {},
   "source": [
    "###### RankNet \n",
    "https://www.microsoft.com/en-us/research/wp-content/uploads/2005/08/icml_ranking.pdf"
   ]
  },
  {
   "cell_type": "markdown",
   "id": "f3767374",
   "metadata": {},
   "source": [
    "###### LambdaRank\n",
    "https://citeseerx.ist.psu.edu/viewdoc/download?doi=10.1.1.180.634&rep=rep1&type=pdf\n",
    "https://www.educative.io/answers/what-is-lambda-rank"
   ]
  },
  {
   "cell_type": "markdown",
   "id": "5d2232fd",
   "metadata": {},
   "source": [
    "###### AdaRank\n",
    "https://dl.acm.org/doi/abs/10.1145/1277741.1277809"
   ]
  },
  {
   "cell_type": "markdown",
   "id": "de279cde",
   "metadata": {},
   "source": [
    "###### GBRank\n",
    "https://faculty.cc.gatech.edu/~zha/papers/fp086-zheng.pdf"
   ]
  },
  {
   "cell_type": "markdown",
   "id": "42282ac5",
   "metadata": {},
   "source": [
    "###### PiRank\n",
    "https://arxiv.org/pdf/2012.06731v2.pdf\n",
    "\n",
    "https://arxiv.org/abs/2203.14363"
   ]
  },
  {
   "cell_type": "markdown",
   "id": "d8fc98e6",
   "metadata": {},
   "source": [
    "###### SetRank\n",
    "https://dl.acm.org/doi/abs/10.1145/3209978.3210055"
   ]
  },
  {
   "cell_type": "markdown",
   "id": "51556cb5",
   "metadata": {},
   "source": [
    "###### PolyRanking\n",
    "https://link.springer.com/chapter/10.1007/11523468_109"
   ]
  },
  {
   "cell_type": "markdown",
   "id": "bbb2ae80",
   "metadata": {},
   "source": [
    "###### BayesRank\n",
    "https://www.iis.sinica.edu.tw/papers/whm/8820-F.pdf\n",
    "\n",
    "https://dl.acm.org/doi/abs/10.1145/2724660.2724672\n",
    "\n",
    "https://www.degruyter.com/document/doi/10.1524/strm.1990.8.3.231/html\n"
   ]
  },
  {
   "cell_type": "code",
   "execution_count": null,
   "id": "b284a951",
   "metadata": {},
   "outputs": [],
   "source": []
  },
  {
   "cell_type": "markdown",
   "id": "8a6fdc3d",
   "metadata": {},
   "source": [
    "# Unsupervised Ranking Modelling: How to rank and weight"
   ]
  },
  {
   "cell_type": "markdown",
   "id": "be3906c1",
   "metadata": {},
   "source": [
    "### We researched about the way metrics to be weighted and the way we rank the merchants.\n",
    "### Here, we could get some ideas for weighting by segments and rank them based on it."
   ]
  },
  {
   "cell_type": "markdown",
   "id": "152b1c0b",
   "metadata": {},
   "source": [
    "https://towardsdatascience.com/learning-to-rank-a-complete-guide-to-ranking-using-machine-learning-4c9688d370d4\n",
    "\n",
    "https://www.robots.ox.ac.uk/~parg/pubs/TR-PARG-04-02.pdf\n",
    "\n",
    "https://journals.plos.org/plosone/article?id=10.1371/journal.pone.0239331\n",
    "\n",
    "http://www.gitta.info/Suitability/en/html/Normalisatio_learningObject1.html"
   ]
  }
 ],
 "metadata": {
  "kernelspec": {
   "display_name": "Python 3 (ipykernel)",
   "language": "python",
   "name": "python3"
  },
  "language_info": {
   "codemirror_mode": {
    "name": "ipython",
    "version": 3
   },
   "file_extension": ".py",
   "mimetype": "text/x-python",
   "name": "python",
   "nbconvert_exporter": "python",
   "pygments_lexer": "ipython3",
   "version": "3.9.12"
  }
 },
 "nbformat": 4,
 "nbformat_minor": 5
}
