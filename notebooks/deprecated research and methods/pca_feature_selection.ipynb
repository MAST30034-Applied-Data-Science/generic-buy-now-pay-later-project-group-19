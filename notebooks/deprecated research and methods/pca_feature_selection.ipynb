{
 "cells": [
  {
   "cell_type": "markdown",
   "metadata": {},
   "source": [
    "# Features Selection Method\n",
    "\n",
    "This notebook will demonstrate a supplementary method we use to do feature selection other than correlation analysis. This method is only for internal use due to lack of concrete theorematic backup and interpretability.\n",
    "\n",
    "## Read Me\n",
    "We aim to find a quantative way to weight the features we have. A good feature should capture as much variance of the data as possible and should be independant to the others.\n",
    "\n",
    "The idea we come up with is based on PCA analysis. The principle components are linear combination of all the features and capture the maximum variance of the data. The absolute value of the weights in these combinations represent the contribution of each feature along the respective direction. Hence, the importance of a feature can be measured by the sum of absolute value of its weight in each principle component. For example, if one feature has extremely low weight in every principle component, it is probabily not a very important feature. The metrics are first standarized before doing the pca analysis to avoid bias.\n",
    "\n",
    "Additionally, by doing the pca analysis we might be able to check if the principle components conforms the 4 challenges we defined. Unfortunately, the weights only show partial similarity hence we decide not to bring it up in the presentation.\n",
    "\n",
    "Based on the pca weights,  we come up with a ranking for the features. The ranking is only used as a supplementary criteria. The primary criteria for features selection is still based on correlation and domain knowledge."
   ]
  },
  {
   "cell_type": "code",
   "execution_count": 2,
   "metadata": {},
   "outputs": [],
   "source": [
    "import pandas as pd\n",
    "import numpy as np\n",
    "import os\n",
    "import re\n",
    "merchant_df = pd.read_parquet('../../data/curated/final_merchant_statistics')"
   ]
  },
  {
   "cell_type": "markdown",
   "metadata": {},
   "source": [
    "## features grouping"
   ]
  },
  {
   "cell_type": "code",
   "execution_count": 2,
   "metadata": {},
   "outputs": [
    {
     "data": {
      "text/plain": [
       "Index(['merchant_abn', 'name', 'tags', 'tag', 'revenue_level', 'take_rate',\n",
       "       'avg_monthly_rev', 'discounted_avg_monthly_rev', 'avg_monthly_orders',\n",
       "       'avg_monthly_approximate_fraudulent_orders', 'std_monthly_revenue',\n",
       "       'std_monthly_discounted_revenue', 'sales_revenue',\n",
       "       'discounted_sales_revenue', 'num_orders',\n",
       "       'approximate_fraudulent_orders', 'avg_daily_rev',\n",
       "       'discounted_avg_daily_rev', 'avg_value_per_order',\n",
       "       'discounted_avg_value_per_order', 'avg_daily_orders',\n",
       "       'avg_daily_approximate_fraudulent_orders', 'std_daily_revenue',\n",
       "       'std_daily_discounted_revenue', 'avg_daily_commission',\n",
       "       'discounted_avg_daily_commission', 'avg_monthly_commission',\n",
       "       'discounted_avg_monthly_commission', 'avg_commission_per_order',\n",
       "       'discounted_avg_commission_per_order', 'overall_commission',\n",
       "       'discounted_overall_commission', 'overall_fraud_rate',\n",
       "       'sa2_region_count', 'median_customer_income', 'returning_customers',\n",
       "       'unique_customers', 'mean_spending', 'std_spending', 'vip_customers'],\n",
       "      dtype='object')"
      ]
     },
     "execution_count": 2,
     "metadata": {},
     "output_type": "execute_result"
    }
   ],
   "source": [
    "merchant_df.columns"
   ]
  },
  {
   "cell_type": "code",
   "execution_count": 3,
   "metadata": {},
   "outputs": [],
   "source": [
    "\n",
    "risk=['std_daily_revenue','discounted_sales_revenue',\n",
    "       'approximate_fraudulent_orders','avg_daily_approximate_fraudulent_orders',\n",
    "       'discounted_avg_value_per_order','std_daily_discounted_revenue',\n",
    "       'discounted_avg_daily_rev','discounted_avg_daily_commission',\n",
    "       'discounted_avg_commission_per_order','overall_fraud_rate',\n",
    "       'discounted_overall_commission' ]\n",
    "\n",
    "\n",
    "consumer_quality=['median_customer_income', 'returning_customers']\n",
    "revenue=['sales_revenue','avg_daily_rev','take_rate','avg_daily_commission',\n",
    "         'overall_commission','avg_commission_per_order','avg_value_per_order','mean_spending','std_spending']\n",
    "\n",
    "\n",
    "exposure=['avg_daily_orders','sa2_region_count','num_orders','unique_customers','vip_customers']"
   ]
  },
  {
   "cell_type": "markdown",
   "metadata": {},
   "source": [
    "# PCA for ranking"
   ]
  },
  {
   "cell_type": "code",
   "execution_count": 4,
   "metadata": {},
   "outputs": [],
   "source": [
    "from sklearn.decomposition import PCA\n",
    "from sklearn.preprocessing import StandardScaler\n",
    "\n",
    "merchant_df = merchant_df.dropna()\n",
    "\n",
    "features = risk+consumer_quality+revenue+exposure\n",
    "\n",
    "# some features the lower the better\n",
    "EPSILON=0.000001\n",
    "merchant_df[\"approximate_fraudulent_orders\"]=1/(merchant_df[\"approximate_fraudulent_orders\"]+EPSILON)\n",
    "merchant_df[\"avg_daily_approximate_fraudulent_orders\"]=1/(merchant_df[\"avg_daily_approximate_fraudulent_orders\"]+EPSILON)\n",
    "merchant_df[\"overall_fraud_rate\"]=1/(merchant_df[\"overall_fraud_rate\"]+EPSILON)\n",
    "\n",
    "merchant_df[\"std_daily_revenue\"]=1/(merchant_df[\"std_daily_revenue\"]+EPSILON)\n",
    "merchant_df[\"std_daily_discounted_revenue\"]=1/(merchant_df[\"std_daily_discounted_revenue\"]+EPSILON)\n",
    "merchant_df[\"std_spending\"]=1/(merchant_df[\"std_spending\"]+EPSILON)\n",
    "\n",
    "x = merchant_df.loc[:, features].values\n",
    "x = StandardScaler().fit_transform(x)\n",
    "\n",
    "## we have 4 dimensions , PCA component was set to 4, however 3 is better in terms of\n",
    "## explained variance ratio\n",
    "\n",
    "pca = PCA(n_components=3)\n",
    "principalComponents = pca.fit_transform(x)\n",
    "principalDf = pd.DataFrame(data = principalComponents\n",
    "             , columns = ['principal component 1', 'principal component 2','principal component 3'])\n",
    "\n",
    "resultDF = pd.concat([principalDf,merchant_df[\"merchant_abn\"]], axis = 1)"
   ]
  },
  {
   "cell_type": "code",
   "execution_count": 7,
   "metadata": {},
   "outputs": [
    {
     "data": {
      "text/html": [
       "<div>\n",
       "<style scoped>\n",
       "    .dataframe tbody tr th:only-of-type {\n",
       "        vertical-align: middle;\n",
       "    }\n",
       "\n",
       "    .dataframe tbody tr th {\n",
       "        vertical-align: top;\n",
       "    }\n",
       "\n",
       "    .dataframe thead th {\n",
       "        text-align: right;\n",
       "    }\n",
       "</style>\n",
       "<table border=\"1\" class=\"dataframe\">\n",
       "  <thead>\n",
       "    <tr style=\"text-align: right;\">\n",
       "      <th></th>\n",
       "      <th>principal component 1</th>\n",
       "      <th>principal component 2</th>\n",
       "      <th>principal component 3</th>\n",
       "      <th>merchant_abn</th>\n",
       "    </tr>\n",
       "  </thead>\n",
       "  <tbody>\n",
       "    <tr>\n",
       "      <th>0</th>\n",
       "      <td>0.707971</td>\n",
       "      <td>-1.745871</td>\n",
       "      <td>-0.957668</td>\n",
       "      <td>1.002328e+10</td>\n",
       "    </tr>\n",
       "    <tr>\n",
       "      <th>1</th>\n",
       "      <td>-2.891114</td>\n",
       "      <td>3.849745</td>\n",
       "      <td>2.091969</td>\n",
       "      <td>1.034686e+10</td>\n",
       "    </tr>\n",
       "    <tr>\n",
       "      <th>2</th>\n",
       "      <td>-1.373781</td>\n",
       "      <td>-0.486562</td>\n",
       "      <td>0.170239</td>\n",
       "      <td>1.038516e+10</td>\n",
       "    </tr>\n",
       "    <tr>\n",
       "      <th>3</th>\n",
       "      <td>5.946911</td>\n",
       "      <td>-1.185472</td>\n",
       "      <td>-0.220086</td>\n",
       "      <td>1.064896e+10</td>\n",
       "    </tr>\n",
       "    <tr>\n",
       "      <th>4</th>\n",
       "      <td>0.745905</td>\n",
       "      <td>-2.021697</td>\n",
       "      <td>-0.846199</td>\n",
       "      <td>1.071407e+10</td>\n",
       "    </tr>\n",
       "  </tbody>\n",
       "</table>\n",
       "</div>"
      ],
      "text/plain": [
       "   principal component 1  principal component 2  principal component 3  \\\n",
       "0               0.707971              -1.745871              -0.957668   \n",
       "1              -2.891114               3.849745               2.091969   \n",
       "2              -1.373781              -0.486562               0.170239   \n",
       "3               5.946911              -1.185472              -0.220086   \n",
       "4               0.745905              -2.021697              -0.846199   \n",
       "\n",
       "   merchant_abn  \n",
       "0  1.002328e+10  \n",
       "1  1.034686e+10  \n",
       "2  1.038516e+10  \n",
       "3  1.064896e+10  \n",
       "4  1.071407e+10  "
      ]
     },
     "execution_count": 7,
     "metadata": {},
     "output_type": "execute_result"
    }
   ],
   "source": [
    "resultDF.head()"
   ]
  },
  {
   "cell_type": "code",
   "execution_count": 8,
   "metadata": {},
   "outputs": [
    {
     "data": {
      "text/plain": [
       "array([[-0.10024615,  0.2730169 , -0.08612818, -0.08620144, -0.10524506,\n",
       "        -0.10164052,  0.2730169 ,  0.26948178, -0.08697996,  0.10463658,\n",
       "         0.26948178,  0.00564998,  0.21388932,  0.27251442,  0.27251442,\n",
       "         0.02117211,  0.2690897 ,  0.2690897 , -0.08718716, -0.10522241,\n",
       "        -0.08398297, -0.00435665,  0.22774523,  0.209856  ,  0.22774523,\n",
       "         0.25721302,  0.24820977],\n",
       "       [-0.14081094,  0.10061088,  0.19721034,  0.19733985,  0.36326284,\n",
       "        -0.13739872,  0.10061088,  0.10781025,  0.34465905, -0.36215989,\n",
       "         0.10781025, -0.01045544,  0.0515702 ,  0.10131381,  0.10131381,\n",
       "         0.04533188,  0.10855316,  0.10855316,  0.34495811,  0.36310179,\n",
       "         0.37287955, -0.01540488,  0.0316987 , -0.12270765,  0.0316987 ,\n",
       "        -0.02910077, -0.03329794],\n",
       "       [ 0.49597827,  0.02026564,  0.41654951,  0.41648732, -0.02815862,\n",
       "         0.49865336,  0.02026564,  0.02649015, -0.0542369 ,  0.05375669,\n",
       "         0.02649015, -0.02448891,  0.21211147,  0.01891012,  0.01891012,\n",
       "        -0.05091747,  0.02513154,  0.02513154, -0.05271921, -0.02656801,\n",
       "        -0.02094294,  0.03658908,  0.18384233, -0.16087935,  0.18384233,\n",
       "         0.02495887,  0.00064817]])"
      ]
     },
     "execution_count": 8,
     "metadata": {},
     "output_type": "execute_result"
    }
   ],
   "source": [
    "weights = pca.components_\n",
    "weights"
   ]
  },
  {
   "cell_type": "code",
   "execution_count": 9,
   "metadata": {},
   "outputs": [
    {
     "data": {
      "text/plain": [
       "array([0.42191229, 0.23238604, 0.08958295])"
      ]
     },
     "execution_count": 9,
     "metadata": {},
     "output_type": "execute_result"
    }
   ],
   "source": [
    "pca.explained_variance_ratio_\n"
   ]
  },
  {
   "cell_type": "code",
   "execution_count": 10,
   "metadata": {},
   "outputs": [
    {
     "name": "stdout",
     "output_type": "stream",
     "text": [
      "0.7438812839011149\n"
     ]
    }
   ],
   "source": [
    "print(sum(pca.explained_variance_ratio_))"
   ]
  },
  {
   "cell_type": "markdown",
   "metadata": {},
   "source": [
    "## Feature selection by pca weights"
   ]
  },
  {
   "cell_type": "code",
   "execution_count": 11,
   "metadata": {},
   "outputs": [
    {
     "name": "stdout",
     "output_type": "stream",
     "text": [
      "std_daily_discounted_revenue\n",
      "std_daily_revenue\n",
      "avg_daily_approximate_fraudulent_orders\n",
      "approximate_fraudulent_orders\n",
      "overall_fraud_rate\n",
      "discounted_avg_value_per_order\n",
      "avg_value_per_order\n",
      "sa2_region_count\n",
      "discounted_avg_commission_per_order\n",
      "avg_commission_per_order\n",
      "mean_spending\n",
      "returning_customers\n",
      "avg_daily_orders\n",
      "num_orders\n",
      "discounted_avg_daily_commission\n"
     ]
    }
   ],
   "source": [
    "from operator import add\n",
    "\n",
    "absolute_weights =[0]*27\n",
    "for component_weight in weights:\n",
    "    absolute_weights = list(map(add, absolute_weights, np.abs(component_weight)))\n",
    "\n",
    "index_weight_map = []\n",
    "for i in range(len(absolute_weights)):\n",
    "    index_weight_map.append((absolute_weights[i],i))\n",
    "\n",
    "index_weight_map.sort(key=lambda tup: tup[0], reverse=True)\n",
    "\n",
    "for i in range(15):\n",
    "    print(features[index_weight_map[i][1]])"
   ]
  }
 ],
 "metadata": {
  "kernelspec": {
   "display_name": "Python 3",
   "language": "python",
   "name": "python3"
  },
  "language_info": {
   "codemirror_mode": {
    "name": "ipython",
    "version": 3
   },
   "file_extension": ".py",
   "mimetype": "text/x-python",
   "name": "python",
   "nbconvert_exporter": "python",
   "pygments_lexer": "ipython3",
   "version": "3.7.4"
  },
  "vscode": {
   "interpreter": {
    "hash": "916dbcbb3f70747c44a77c7bcd40155683ae19c65e1c03b4aa3499c5328201f1"
   }
  }
 },
 "nbformat": 4,
 "nbformat_minor": 2
}
