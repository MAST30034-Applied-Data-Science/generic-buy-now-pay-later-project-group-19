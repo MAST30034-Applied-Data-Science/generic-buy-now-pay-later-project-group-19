{
 "cells": [
  {
   "cell_type": "markdown",
   "metadata": {},
   "source": [
    "# Merchant Fraud Probability Analysis\n",
    "\n",
    "This notebook demonstrates the findings we have discovered from the merchant fraud data as part of our research. These findings are not shown in our presentation due to complexity and explanability reasons.\n",
    "\n",
    "## Read Me\n",
    "We aim to identify statistics that can separate fraudulent merchant and good merchants. Merchant daily orders, customer numbers, revenue by domain knowledge, are indeed relevant features to fraud. However, one challenge we face is that different merchant have different distributions for these features ( Can be shown in the segmentation analysis), so it could be problematic to assume the same distribution and fit the models from it. \n",
    "\n",
    "To tackle this problem, we standardize the metrics (Merchant daily orders, customer numbers, revenue) based on its p-value against the historical distribution of each merchant. The p-value has a probabilistic interpretation, which is the likilihood of the observed data conforms the corresponding historical performance. Low p-value indicates that the observed data is an abnomaly. \n",
    "\n",
    "We planed to build a k-means clustering model to detect future fraud based on these findings. However, lack of data greatly limits the feasibility to implement this idea. There are also a notable amount of  discrepencies between consumer fraud data and merchant fraud data hence we decide to use a more explanable approach (linear regression model for consumer fraud) instead of using this p-value idea."
   ]
  },
  {
   "cell_type": "code",
   "execution_count": 3,
   "metadata": {},
   "outputs": [],
   "source": [
    "# create a spark session\n",
    "import pandas as pd\n",
    "import numpy as np\n",
    "import os\n",
    "import re\n",
    "from pyspark.sql import SparkSession\n",
    "from pyspark.shell import spark\n",
    "from pyspark.sql import SQLContext\n",
    "from pyspark.sql.functions import *\n",
    "import matplotlib.pyplot as plt\n",
    "\n",
    "spark = (\n",
    "    SparkSession.builder.appName(\"MAST30034 Project 2\")\n",
    "    .config(\"spark.sql.repl.eagerEval.enabled\", True) \n",
    "    .config(\"spark.sql.parquet.cacheMetadata\", \"true\")\n",
    "    .config(\"spark.sql.session.timeZone\", \"Etc/UTC\")\n",
    "    .config(\"spark.driver.memory\", \"4g\")\n",
    "    .getOrCreate()\n",
    ")"
   ]
  },
  {
   "cell_type": "markdown",
   "metadata": {},
   "source": [
    "### Check Missing Value\n"
   ]
  },
  {
   "cell_type": "code",
   "execution_count": 4,
   "metadata": {},
   "outputs": [],
   "source": [
    "merchant_sdf = spark.read.parquet(\"../../data/tables/tbl_merchants.parquet\")\n",
    "merchant_df = merchant_sdf.toPandas()\n",
    "merchant_fraud_df = pd.read_csv(\"../../data/tables/merchant_fraud_probability.csv\")\n",
    "sdf = spark.read.parquet(\"../../data/tables/transactions_20220228_20220828_snapshot\")"
   ]
  },
  {
   "cell_type": "code",
   "execution_count": 5,
   "metadata": {},
   "outputs": [
    {
     "data": {
      "text/plain": [
       "48"
      ]
     },
     "execution_count": 5,
     "metadata": {},
     "output_type": "execute_result"
    }
   ],
   "source": [
    "# merchant_sdf.select(\"merchant_abn\").distinct().count() # 4026 entries distince values of merchant\n",
    "fraud_union = set(merchant_fraud_df[\"merchant_abn\"].unique()) # 61 unique cases\n",
    "all_union = set(merchant_df[\"merchant_abn\"].unique())\n",
    "len(all_union.intersection(fraud_union))"
   ]
  },
  {
   "cell_type": "markdown",
   "metadata": {},
   "source": [
    "Only 48/4026 merchants have fraud data\n",
    "13/61 of the fraud data cannot be matched with any merchant abn"
   ]
  },
  {
   "cell_type": "markdown",
   "metadata": {},
   "source": [
    "### Read transaction data"
   ]
  },
  {
   "cell_type": "code",
   "execution_count": 6,
   "metadata": {},
   "outputs": [],
   "source": [
    "from pyspark.sql import functions as F\n",
    "transaction_df1 = spark.read.parquet(\"../../data/tables/transactions_20210228_20210827_snapshot\")\n",
    "transaction_df2 = spark.read.parquet(\"../../data/tables/transactions_20210828_20220227_snapshot\")\n",
    "transaction_df3 = spark.read.parquet(\"../../data/tables/transactions_20220228_20220828_snapshot\")\n",
    "transaction = transaction_df1.union(transaction_df2).union(transaction_df3)\n",
    "\n",
    "transaction = transaction.withColumn('log(dollar_value)',\n",
    "                                     F.log(F.col('dollar_value')))\n",
    "merchant = spark.read.parquet(\"../../data/tables/tbl_merchants.parquet\")\n",
    "merchant_abn = merchant.toPandas()['merchant_abn'].unique().tolist()\n",
    "\n",
    "filtered_transaction = transaction.where(F.col('merchant_abn').isin(merchant_abn))\n",
    "merchant_daily_transaction = filtered_transaction.groupby(['merchant_abn','order_datetime','user_id']).agg(\n",
    "    F.countDistinct(F.col('order_id')).alias('no_order'),\n",
    "    F.sum(F.col('dollar_value')).alias('dollar_amount')\n",
    ") \n",
    "# join merchant daily transaction data and merchant fraud\n",
    "merchant_fraud_df.to_parquet(\"../../data/temp/merchant_fraud\")\n",
    "merchant_fraud_sdf = spark.read.parquet(\"../../data/temp/merchant_fraud\")\n",
    "join_df = merchant_fraud_sdf.join(merchant_daily_transaction, on=[\"merchant_abn\",\"order_datetime\"]).distinct()\n",
    "# join_df.select(\"merchant_abn\").distinct().count() #48"
   ]
  },
  {
   "cell_type": "code",
   "execution_count": 7,
   "metadata": {},
   "outputs": [
    {
     "name": "stderr",
     "output_type": "stream",
     "text": [
      "                                                                                \r"
     ]
    },
    {
     "data": {
      "text/plain": [
       "95"
      ]
     },
     "execution_count": 7,
     "metadata": {},
     "output_type": "execute_result"
    }
   ],
   "source": [
    "# join dataframe only contains merchant transaction contained in merchant_fraud data\n",
    "join_df = merchant_fraud_sdf.join(merchant_daily_transaction, on=[\"merchant_abn\",\"order_datetime\"]).distinct()\n",
    "agg_sdf = join_df.groupBy(['merchant_abn','order_datetime']).agg(\n",
    "     F.countDistinct(F.col('user_id')).alias('no_customer'),\n",
    "     F.sum(F.col(\"no_order\")).alias(\"total_order\"),\n",
    "     F.avg(F.col(\"dollar_amount\")).alias(\"avg_dollar_amount\"), # changed to avg for independence\n",
    "     F.mean(F.col(\"fraud_probability\")).alias(\"fraud_prob\")\n",
    ")\n",
    "\n",
    "agg_sdf.count() # 95"
   ]
  },
  {
   "cell_type": "code",
   "execution_count": 8,
   "metadata": {},
   "outputs": [
    {
     "name": "stderr",
     "output_type": "stream",
     "text": [
      "                                                                                \r"
     ]
    }
   ],
   "source": [
    "agg_df = agg_sdf.toPandas()"
   ]
  },
  {
   "cell_type": "markdown",
   "metadata": {},
   "source": [
    "### test normal distribution assumption on the most major merchants"
   ]
  },
  {
   "cell_type": "code",
   "execution_count": 9,
   "metadata": {},
   "outputs": [
    {
     "name": "stderr",
     "output_type": "stream",
     "text": [
      "                                                                                \r"
     ]
    }
   ],
   "source": [
    "# find most major merchant\n",
    "\n",
    "test_transaction = filtered_transaction.groupby(['merchant_abn','order_datetime']).agg(\n",
    "    F.countDistinct(F.col('user_id')).alias('no_customer'),\n",
    "    F.countDistinct(F.col(\"order_id\")).alias(\"total_order\"),\n",
    "    F.avg(F.col(\"dollar_value\")).alias(\"avg_dollar_value\"), # changed to average per order for independence\n",
    ") \n",
    "\n",
    "\n",
    "max = test_transaction.groupby(\"merchant_abn\").agg(\n",
    "    F.sum(F.col(\"total_order\")).alias(\"total_all_time_order\") \n",
    ").agg(\n",
    "    F.max(F.col(\"total_all_time_order\")).alias(\"max\")\n",
    ").collect()[0][\"max\"]\n",
    "\n",
    "\n",
    "max_abn = test_transaction.groupby(\"merchant_abn\").agg(\n",
    "    F.sum(F.col(\"total_order\")).alias(\"total_all_time_order\") \n",
    ").where(\n",
    "    F.col(\"total_all_time_order\") ==  max\n",
    ").collect()[0][\"merchant_abn\"]"
   ]
  },
  {
   "cell_type": "code",
   "execution_count": 10,
   "metadata": {},
   "outputs": [],
   "source": [
    "# test 2nd and 3rd as well\n",
    "order_abn = test_transaction.groupby(\"merchant_abn\").agg(\n",
    "    F.sum(F.col(\"total_order\")).alias(\"total_all_time_order\") \n",
    ").orderBy(\n",
    "    F.col(\"total_all_time_order\"),\n",
    "    ascending=False\n",
    ")"
   ]
  },
  {
   "cell_type": "code",
   "execution_count": 11,
   "metadata": {},
   "outputs": [
    {
     "name": "stderr",
     "output_type": "stream",
     "text": [
      "                                                                                \r"
     ]
    }
   ],
   "source": [
    "max_abn_agg = test_transaction.where(\n",
    "    F.col(\"merchant_abn\") == max_abn\n",
    ").toPandas()\n",
    "\n",
    "snd_abn_agg = test_transaction.where(\n",
    "    F.col(\"merchant_abn\") == 86578477987\n",
    ").toPandas()\n",
    "\n",
    "trd_abn_agg = test_transaction.where(\n",
    "    F.col(\"merchant_abn\") == 64203420245\n",
    ").toPandas()"
   ]
  },
  {
   "cell_type": "code",
   "execution_count": 12,
   "metadata": {},
   "outputs": [
    {
     "data": {
      "text/plain": [
       "(array([  1.,   1.,  12.,  41.,  94., 146., 165.,  96.,  36.,  14.]),\n",
       " array([26.00845407, 26.6825839 , 27.35671373, 28.03084356, 28.70497339,\n",
       "        29.37910322, 30.05323305, 30.72736288, 31.40149271, 32.07562254,\n",
       "        32.74975237]),\n",
       " <BarContainer object of 10 artists>)"
      ]
     },
     "execution_count": 12,
     "metadata": {},
     "output_type": "execute_result"
    },
    {
     "data": {
      "image/png": "[encoded data removed]",
      "text/plain": [
       "<Figure size 432x288 with 1 Axes>"
      ]
     },
     "metadata": {
      "needs_background": "light"
     },
     "output_type": "display_data"
    }
   ],
   "source": [
    "plt.hist(max_abn_agg[\"avg_dollar_value\"])"
   ]
  },
  {
   "cell_type": "code",
   "execution_count": 13,
   "metadata": {},
   "outputs": [
    {
     "data": {
      "text/plain": [
       "(array([ 38.,  83., 138., 147., 116.,  59.,  21.,   3.,   0.,   1.]),\n",
       " array([32.36590612, 33.1544895 , 33.94307288, 34.73165626, 35.52023964,\n",
       "        36.30882302, 37.0974064 , 37.88598978, 38.67457316, 39.46315654,\n",
       "        40.25173992]),\n",
       " <BarContainer object of 10 artists>)"
      ]
     },
     "execution_count": 13,
     "metadata": {},
     "output_type": "execute_result"
    },
    {
     "data": {
      "image/png": "[encoded data removed]",
      "text/plain": [
       "<Figure size 432x288 with 1 Axes>"
      ]
     },
     "metadata": {
      "needs_background": "light"
     },
     "output_type": "display_data"
    }
   ],
   "source": [
    "plt.hist(snd_abn_agg[\"avg_dollar_value\"])"
   ]
  },
  {
   "cell_type": "code",
   "execution_count": 14,
   "metadata": {},
   "outputs": [
    {
     "data": {
      "text/plain": [
       "(array([  6.,  20.,  81., 167., 161., 117.,  43.,   8.,   2.,   1.]),\n",
       " array([26.56451221, 27.13049597, 27.69647972, 28.26246348, 28.82844723,\n",
       "        29.39443099, 29.96041475, 30.5263985 , 31.09238226, 31.65836601,\n",
       "        32.22434977]),\n",
       " <BarContainer object of 10 artists>)"
      ]
     },
     "execution_count": 14,
     "metadata": {},
     "output_type": "execute_result"
    },
    {
     "data": {
      "image/png": "[encoded data removed]",
      "text/plain": [
       "<Figure size 432x288 with 1 Axes>"
      ]
     },
     "metadata": {
      "needs_background": "light"
     },
     "output_type": "display_data"
    }
   ],
   "source": [
    "plt.hist(trd_abn_agg[\"avg_dollar_value\"])\n"
   ]
  },
  {
   "cell_type": "code",
   "execution_count": 15,
   "metadata": {},
   "outputs": [
    {
     "data": {
      "text/plain": [
       "(array([125., 255., 164.,  45.,  10.,   1.,   3.,   0.,   2.,   1.]),\n",
       " array([ 306. ,  401.4,  496.8,  592.2,  687.6,  783. ,  878.4,  973.8,\n",
       "        1069.2, 1164.6, 1260. ]),\n",
       " <BarContainer object of 10 artists>)"
      ]
     },
     "execution_count": 15,
     "metadata": {},
     "output_type": "execute_result"
    },
    {
     "data": {
      "image/png": "[encoded data removed]",
      "text/plain": [
       "<Figure size 432x288 with 1 Axes>"
      ]
     },
     "metadata": {
      "needs_background": "light"
     },
     "output_type": "display_data"
    }
   ],
   "source": [
    "plt.hist(max_abn_agg[\"total_order\"])"
   ]
  },
  {
   "cell_type": "code",
   "execution_count": 16,
   "metadata": {},
   "outputs": [
    {
     "data": {
      "text/plain": [
       "(array([108., 242., 185.,  49.,  15.,   1.,   3.,   0.,   0.,   3.]),\n",
       " array([ 284. ,  370.1,  456.2,  542.3,  628.4,  714.5,  800.6,  886.7,\n",
       "         972.8, 1058.9, 1145. ]),\n",
       " <BarContainer object of 10 artists>)"
      ]
     },
     "execution_count": 16,
     "metadata": {},
     "output_type": "execute_result"
    },
    {
     "data": {
      "image/png": "[encoded data removed]",
      "text/plain": [
       "<Figure size 432x288 with 1 Axes>"
      ]
     },
     "metadata": {
      "needs_background": "light"
     },
     "output_type": "display_data"
    }
   ],
   "source": [
    "plt.hist(snd_abn_agg[\"total_order\"])"
   ]
  },
  {
   "cell_type": "code",
   "execution_count": 17,
   "metadata": {},
   "outputs": [
    {
     "data": {
      "text/plain": [
       "(array([ 57., 249., 211.,  66.,  16.,   1.,   2.,   1.,   2.,   1.]),\n",
       " array([ 243.,  332.,  421.,  510.,  599.,  688.,  777.,  866.,  955.,\n",
       "        1044., 1133.]),\n",
       " <BarContainer object of 10 artists>)"
      ]
     },
     "execution_count": 17,
     "metadata": {},
     "output_type": "execute_result"
    },
    {
     "data": {
      "image/png": "[encoded data removed]",
      "text/plain": [
       "<Figure size 432x288 with 1 Axes>"
      ]
     },
     "metadata": {
      "needs_background": "light"
     },
     "output_type": "display_data"
    }
   ],
   "source": [
    "plt.hist(trd_abn_agg[\"total_order\"])"
   ]
  },
  {
   "cell_type": "markdown",
   "metadata": {},
   "source": [
    "The above graph shows that the assumption of normal distribution for the historical data of the metrics holds."
   ]
  },
  {
   "cell_type": "markdown",
   "metadata": {},
   "source": [
    "### standardize the metrics by its historical mean and var\n",
    "\n",
    "1. find historical mean and var of customer number, total order, total_dollar_amount of each merchant\n",
    "2. calculate the p-value"
   ]
  },
  {
   "cell_type": "code",
   "execution_count": 18,
   "metadata": {},
   "outputs": [
    {
     "name": "stderr",
     "output_type": "stream",
     "text": [
      "                                                                                \r"
     ]
    },
    {
     "data": {
      "text/plain": [
       "18656"
      ]
     },
     "execution_count": 18,
     "metadata": {},
     "output_type": "execute_result"
    }
   ],
   "source": [
    "# first find the average \n",
    "labeled_merchant = merchant_fraud_df['merchant_abn'].unique().tolist()\n",
    "labeled_merchant_transaction = transaction.where(F.col('merchant_abn').isin(labeled_merchant))\n",
    "\n",
    "all_time_daily_merchant_transaction = labeled_merchant_transaction.groupby(['merchant_abn','order_datetime']).agg(\n",
    "    F.countDistinct(F.col('user_id')).alias('no_customer'),\n",
    "    F.countDistinct(F.col(\"order_id\")).alias(\"total_order\"),\n",
    "    F.avg(F.col(\"dollar_value\")).alias(\"avg_dollar_value\"), # changed to average per consumer for independence\n",
    ") \n",
    "\n",
    "all_time_daily_merchant_transaction.count()"
   ]
  },
  {
   "cell_type": "code",
   "execution_count": 19,
   "metadata": {},
   "outputs": [
    {
     "name": "stdout",
     "output_type": "stream",
     "text": [
      "root\n",
      " |-- merchant_abn: long (nullable = true)\n",
      " |-- avg_daily_no_customer: double (nullable = true)\n",
      " |-- stddev_daily_no_customer: double (nullable = true)\n",
      " |-- avg_daily_total_order: double (nullable = true)\n",
      " |-- stddev_daily_total_order: double (nullable = true)\n",
      " |-- avg_daily_avg_dollar_value: double (nullable = true)\n",
      " |-- stddev_daily_avg_dollar_value: double (nullable = true)\n",
      "\n"
     ]
    }
   ],
   "source": [
    "all_time_agg = all_time_daily_merchant_transaction.groupBy(\"merchant_abn\").agg(\n",
    "    F.avg(F.col(\"no_customer\")).alias(\"avg_daily_no_customer\"),\n",
    "    F.stddev(F.col(\"no_customer\")).alias(\"stddev_daily_no_customer\"),\n",
    "    F.avg(F.col(\"total_order\")).alias(\"avg_daily_total_order\"),\n",
    "    F.stddev(F.col(\"total_order\")).alias(\"stddev_daily_total_order\"),\n",
    "    F.avg(F.col(\"avg_dollar_value\")).alias(\"avg_daily_avg_dollar_value\"), # avg customer spending\n",
    "    F.stddev(F.col(\"avg_dollar_value\")).alias(\"stddev_daily_avg_dollar_value\"),\n",
    ")\n",
    "\n",
    "all_time_agg.printSchema()\n"
   ]
  },
  {
   "cell_type": "code",
   "execution_count": 20,
   "metadata": {},
   "outputs": [
    {
     "name": "stderr",
     "output_type": "stream",
     "text": [
      "                                                                                \r"
     ]
    }
   ],
   "source": [
    "#all_time_agg.count() # 61 checked\n",
    "all_time_agg_df = all_time_agg.toPandas()"
   ]
  },
  {
   "cell_type": "code",
   "execution_count": 21,
   "metadata": {},
   "outputs": [
    {
     "name": "stderr",
     "output_type": "stream",
     "text": [
      "/Users/ke/opt/anaconda3/envs/ML/lib/python3.9/site-packages/scipy/stats/_distn_infrastructure.py:1953: RuntimeWarning: invalid value encountered in double_scalars\n",
      "  x = np.asarray((x - loc)/scale, dtype=dtyp)\n",
      "/Users/ke/opt/anaconda3/envs/ML/lib/python3.9/site-packages/scipy/stats/_distn_infrastructure.py:1953: RuntimeWarning: invalid value encountered in double_scalars\n",
      "  x = np.asarray((x - loc)/scale, dtype=dtyp)\n",
      "/Users/ke/opt/anaconda3/envs/ML/lib/python3.9/site-packages/scipy/stats/_distn_infrastructure.py:1953: RuntimeWarning: invalid value encountered in double_scalars\n",
      "  x = np.asarray((x - loc)/scale, dtype=dtyp)\n"
     ]
    }
   ],
   "source": [
    "# Joint probability \n",
    "# assume independence (avg spending and number of customer are independent )\n",
    "# cdf F(x<X, y<Y) = F(x)F(y)\n",
    "# since order and customer are highly correlated(almost identical), we choose avg_dollar_value as X and \n",
    "# no of orders as Y\n",
    "\n",
    "from scipy import stats\n",
    "def two_side_p_val(mean, stddev, test):\n",
    "    norm_dist = stats.norm(loc=mean, scale=stddev)\n",
    "    if test > mean:\n",
    "        return 2* (1-norm_dist.cdf(test))\n",
    "    else:\n",
    "        return 2*norm_dist.cdf(test)\n",
    "\n",
    "def one_side_p_val(mean, stddev, test):\n",
    "    norm_dist = stats.norm(loc=mean, scale=stddev)\n",
    "    if test > mean:\n",
    "        return (1-norm_dist.cdf(test))\n",
    "    else:\n",
    "        return norm_dist.cdf(test)\n",
    "\n",
    "def join_prob_p_val(mux, stdx, muy, stdy, testx, testy):\n",
    "    distx = stats.norm(loc=mux, scale=stdx)\n",
    "    disty = stats.norm(loc=muy, scale=stdy)\n",
    "    joint_prob = distx.cdf(testx) * disty.cdf(testy)\n",
    "    if joint_prob>0.5:\n",
    "        return 2* (1-joint_prob)\n",
    "    else:\n",
    "        return 2*joint_prob\n",
    "\n",
    "\n",
    "agg_join_df = all_time_agg_df.merge(agg_df, on=\"merchant_abn\")\n",
    "\n",
    "agg_join_df[\"no_order_p_val\"] = agg_join_df[['avg_daily_total_order','stddev_daily_total_order',\"total_order\"]].\\\n",
    "    apply(lambda row:one_side_p_val(row[0],row[1],row[2]),axis=1)\n",
    "\n",
    "agg_join_df[\"no_customer_p_val\"] = agg_join_df[['avg_daily_no_customer','stddev_daily_no_customer',\"no_customer\"]].\\\n",
    "    apply(lambda row:one_side_p_val(row[0],row[1],row[2]),axis=1)\n",
    "\n",
    "agg_join_df[\"avg_dollar_value_p_val\"] = agg_join_df[['avg_daily_avg_dollar_value','stddev_daily_avg_dollar_value',\"avg_dollar_amount\"]].\\\n",
    "    apply(lambda row:one_side_p_val(row[0],row[1],row[2]),axis=1)\n",
    "\n",
    "\n",
    "# not good feature, tested by graph\n",
    "agg_join_df[\"joint_dist_p_val\"] =  agg_join_df[['avg_daily_avg_dollar_value','stddev_daily_avg_dollar_value',\\\n",
    "    'avg_daily_total_order','stddev_daily_total_order','avg_dollar_amount',\"total_order\"]].\\\n",
    "         apply(lambda row:join_prob_p_val(row[0],row[1],row[2],row[3],row[4],row[5]),axis=1)\n",
    "\n",
    "# not good feature, tested by graph\n",
    "# p_val_x * p_val_y\n",
    "agg_join_df[\"p_val_multiple\"] = agg_join_df[['avg_dollar_value_p_val','no_order_p_val']].apply(lambda row:\n",
    "np.exp(row[0])*np.exp(row[1]),axis=1)"
   ]
  },
  {
   "cell_type": "markdown",
   "metadata": {},
   "source": [
    "### First check if there is any trend within the labeled fraud data\n",
    "\n",
    "Plot the fraud rate against p-value of the metrics, if there is a linear trend than consider doing a linear regression model."
   ]
  },
  {
   "cell_type": "code",
   "execution_count": 22,
   "metadata": {},
   "outputs": [
    {
     "data": {
      "text/plain": [
       "<matplotlib.collections.PathCollection at 0x7f7f4a79ff70>"
      ]
     },
     "execution_count": 22,
     "metadata": {},
     "output_type": "execute_result"
    },
    {
     "data": {
      "image/png": "[encoded data removed]",
      "text/plain": [
       "<Figure size 432x288 with 1 Axes>"
      ]
     },
     "metadata": {
      "needs_background": "light"
     },
     "output_type": "display_data"
    }
   ],
   "source": [
    "# graphs\n",
    "agg_join_df = agg_join_df.dropna()\n",
    "plt.scatter(agg_join_df[\"no_order_p_val\"],agg_join_df[\"fraud_prob\"])\n",
    "# agg_join_df[\"no_order_p_val\"] = agg_join_df[\"no_order_p_val\"]"
   ]
  },
  {
   "cell_type": "code",
   "execution_count": 23,
   "metadata": {},
   "outputs": [
    {
     "data": {
      "text/plain": [
       "<matplotlib.collections.PathCollection at 0x7f7f58c2cbe0>"
      ]
     },
     "execution_count": 23,
     "metadata": {},
     "output_type": "execute_result"
    },
    {
     "data": {
      "image/png": "[encoded data removed]",
      "text/plain": [
       "<Figure size 432x288 with 1 Axes>"
      ]
     },
     "metadata": {
      "needs_background": "light"
     },
     "output_type": "display_data"
    }
   ],
   "source": [
    "plt.scatter(agg_join_df[\"no_customer_p_val\"],agg_join_df[\"fraud_prob\"])\n",
    "\n",
    "#plt.scatter(np.log(agg_join_df[\"no_customer_p_val\"]),agg_join_df[\"fraud_prob\"])"
   ]
  },
  {
   "cell_type": "code",
   "execution_count": 24,
   "metadata": {},
   "outputs": [
    {
     "data": {
      "text/html": [
       "<div>\n",
       "<style scoped>\n",
       "    .dataframe tbody tr th:only-of-type {\n",
       "        vertical-align: middle;\n",
       "    }\n",
       "\n",
       "    .dataframe tbody tr th {\n",
       "        vertical-align: top;\n",
       "    }\n",
       "\n",
       "    .dataframe thead th {\n",
       "        text-align: right;\n",
       "    }\n",
       "</style>\n",
       "<table border=\"1\" class=\"dataframe\">\n",
       "  <thead>\n",
       "    <tr style=\"text-align: right;\">\n",
       "      <th></th>\n",
       "      <th>merchant_abn</th>\n",
       "      <th>avg_daily_no_customer</th>\n",
       "      <th>stddev_daily_no_customer</th>\n",
       "      <th>avg_daily_total_order</th>\n",
       "      <th>stddev_daily_total_order</th>\n",
       "      <th>avg_daily_avg_dollar_value</th>\n",
       "      <th>stddev_daily_avg_dollar_value</th>\n",
       "      <th>order_datetime</th>\n",
       "      <th>no_customer</th>\n",
       "      <th>total_order</th>\n",
       "      <th>avg_dollar_amount</th>\n",
       "      <th>fraud_prob</th>\n",
       "      <th>no_order_p_val</th>\n",
       "      <th>no_customer_p_val</th>\n",
       "      <th>avg_dollar_value_p_val</th>\n",
       "      <th>joint_dist_p_val</th>\n",
       "      <th>p_val_multiple</th>\n",
       "    </tr>\n",
       "  </thead>\n",
       "  <tbody>\n",
       "    <tr>\n",
       "      <th>36</th>\n",
       "      <td>35575706403</td>\n",
       "      <td>1.072464</td>\n",
       "      <td>0.261154</td>\n",
       "      <td>1.072464</td>\n",
       "      <td>0.261154</td>\n",
       "      <td>11275.779495</td>\n",
       "      <td>8551.62989</td>\n",
       "      <td>2022-02-20</td>\n",
       "      <td>1</td>\n",
       "      <td>1</td>\n",
       "      <td>50209.505439</td>\n",
       "      <td>91.096068</td>\n",
       "      <td>0.390707</td>\n",
       "      <td>0.390707</td>\n",
       "      <td>0.000003</td>\n",
       "      <td>0.781413</td>\n",
       "      <td>1.47803</td>\n",
       "    </tr>\n",
       "  </tbody>\n",
       "</table>\n",
       "</div>"
      ],
      "text/plain": [
       "    merchant_abn  avg_daily_no_customer  stddev_daily_no_customer  \\\n",
       "36   35575706403               1.072464                  0.261154   \n",
       "\n",
       "    avg_daily_total_order  stddev_daily_total_order  \\\n",
       "36               1.072464                  0.261154   \n",
       "\n",
       "    avg_daily_avg_dollar_value  stddev_daily_avg_dollar_value order_datetime  \\\n",
       "36                11275.779495                     8551.62989     2022-02-20   \n",
       "\n",
       "    no_customer  total_order  avg_dollar_amount  fraud_prob  no_order_p_val  \\\n",
       "36            1            1       50209.505439   91.096068        0.390707   \n",
       "\n",
       "    no_customer_p_val  avg_dollar_value_p_val  joint_dist_p_val  \\\n",
       "36           0.390707                0.000003          0.781413   \n",
       "\n",
       "    p_val_multiple  \n",
       "36         1.47803  "
      ]
     },
     "execution_count": 24,
     "metadata": {},
     "output_type": "execute_result"
    }
   ],
   "source": [
    "agg_join_df.loc[agg_join_df[\"fraud_prob\"] >= 90]"
   ]
  },
  {
   "cell_type": "code",
   "execution_count": 25,
   "metadata": {},
   "outputs": [
    {
     "data": {
      "text/plain": [
       "<matplotlib.collections.PathCollection at 0x7f7f98c3e670>"
      ]
     },
     "execution_count": 25,
     "metadata": {},
     "output_type": "execute_result"
    },
    {
     "data": {
      "image/png": "[encoded data removed]",
      "text/plain": [
       "<Figure size 432x288 with 1 Axes>"
      ]
     },
     "metadata": {
      "needs_background": "light"
     },
     "output_type": "display_data"
    }
   ],
   "source": [
    "\n",
    "plt.scatter(np.exp(agg_join_df[\"avg_dollar_value_p_val\"]),agg_join_df[\"fraud_prob\"])\n",
    "# plt.scatter(np.log(agg_join_df[\"total_dollar_value_p_val\"]),agg_join_df[\"fraud_prob\"])\n"
   ]
  },
  {
   "cell_type": "code",
   "execution_count": 26,
   "metadata": {},
   "outputs": [],
   "source": [
    "# Joint probability \n",
    "# assume independence (avg spending and number of customer are independent )\n",
    "# cdf F(x<X, y<Y) = F(x)F(y)\n",
    "\n"
   ]
  },
  {
   "cell_type": "code",
   "execution_count": 27,
   "metadata": {},
   "outputs": [
    {
     "data": {
      "text/plain": [
       "<matplotlib.collections.PathCollection at 0x7f7f6923ea30>"
      ]
     },
     "execution_count": 27,
     "metadata": {},
     "output_type": "execute_result"
    },
    {
     "data": {
      "image/png": "[encoded data removed]",
      "text/plain": [
       "<Figure size 432x288 with 1 Axes>"
      ]
     },
     "metadata": {
      "needs_background": "light"
     },
     "output_type": "display_data"
    }
   ],
   "source": [
    "# not optimal....\n",
    "plt.scatter(agg_join_df[\"joint_dist_p_val\"],agg_join_df[\"fraud_prob\"])"
   ]
  },
  {
   "cell_type": "code",
   "execution_count": 28,
   "metadata": {},
   "outputs": [],
   "source": [
    "# # p val multiple\n",
    "\n",
    "# plt.scatter(agg_join_df[\"p_val_multiple\"],agg_join_df[\"fraud_prob\"])"
   ]
  },
  {
   "cell_type": "markdown",
   "metadata": {},
   "source": [
    "## Then check if the p-value differs the fraud merchant from the good ones \n",
    "\n",
    "This is done by checking if their p-value have the same distribution"
   ]
  },
  {
   "cell_type": "code",
   "execution_count": 29,
   "metadata": {},
   "outputs": [],
   "source": [
    "# agg_join_df.to_csv(\"../../data/curated/merchant_fraud_join.csv\")"
   ]
  },
  {
   "cell_type": "markdown",
   "metadata": {},
   "source": [
    "### plot the distribution of fraud data"
   ]
  },
  {
   "cell_type": "code",
   "execution_count": 30,
   "metadata": {},
   "outputs": [
    {
     "data": {
      "text/plain": [
       "(array([72.,  7.,  1.,  0.,  1.,  0.,  0.,  3.,  1.,  7.]),\n",
       " array([3.33066907e-16, 4.39852681e-02, 8.79705362e-02, 1.31955804e-01,\n",
       "        1.75941072e-01, 2.19926341e-01, 2.63911609e-01, 3.07896877e-01,\n",
       "        3.51882145e-01, 3.95867413e-01, 4.39852681e-01]),\n",
       " <BarContainer object of 10 artists>)"
      ]
     },
     "execution_count": 30,
     "metadata": {},
     "output_type": "execute_result"
    },
    {
     "data": {
      "image/png": "[encoded data removed]",
      "text/plain": [
       "<Figure size 432x288 with 1 Axes>"
      ]
     },
     "metadata": {
      "needs_background": "light"
     },
     "output_type": "display_data"
    }
   ],
   "source": [
    "plt.hist(agg_join_df[\"no_customer_p_val\"])"
   ]
  },
  {
   "cell_type": "code",
   "execution_count": 31,
   "metadata": {},
   "outputs": [
    {
     "data": {
      "text/plain": [
       "(array([72.,  7.,  1.,  0.,  1.,  0.,  0.,  3.,  1.,  7.]),\n",
       " array([3.33066907e-16, 4.39852681e-02, 8.79705362e-02, 1.31955804e-01,\n",
       "        1.75941072e-01, 2.19926341e-01, 2.63911609e-01, 3.07896877e-01,\n",
       "        3.51882145e-01, 3.95867413e-01, 4.39852681e-01]),\n",
       " <BarContainer object of 10 artists>)"
      ]
     },
     "execution_count": 31,
     "metadata": {},
     "output_type": "execute_result"
    },
    {
     "data": {
      "image/png": "[encoded data removed]",
      "text/plain": [
       "<Figure size 432x288 with 1 Axes>"
      ]
     },
     "metadata": {
      "needs_background": "light"
     },
     "output_type": "display_data"
    }
   ],
   "source": [
    "plt.hist(agg_join_df[\"no_order_p_val\"])"
   ]
  },
  {
   "cell_type": "code",
   "execution_count": 32,
   "metadata": {},
   "outputs": [
    {
     "data": {
      "text/plain": [
       "(array([25.,  6., 10., 10.,  5.,  8.,  8.,  6.,  8.,  6.]),\n",
       " array([2.22044605e-16, 4.98926531e-02, 9.97853062e-02, 1.49677959e-01,\n",
       "        1.99570612e-01, 2.49463266e-01, 2.99355919e-01, 3.49248572e-01,\n",
       "        3.99141225e-01, 4.49033878e-01, 4.98926531e-01]),\n",
       " <BarContainer object of 10 artists>)"
      ]
     },
     "execution_count": 32,
     "metadata": {},
     "output_type": "execute_result"
    },
    {
     "data": {
      "image/png": "[encoded data removed]",
      "text/plain": [
       "<Figure size 432x288 with 1 Axes>"
      ]
     },
     "metadata": {
      "needs_background": "light"
     },
     "output_type": "display_data"
    }
   ],
   "source": [
    "plt.hist(agg_join_df[\"avg_dollar_value_p_val\"])\n"
   ]
  },
  {
   "cell_type": "markdown",
   "metadata": {},
   "source": [
    "### Plot the normal (population) data"
   ]
  },
  {
   "cell_type": "code",
   "execution_count": 33,
   "metadata": {},
   "outputs": [
    {
     "name": "stderr",
     "output_type": "stream",
     "text": [
      "22/10/13 16:19:53 WARN RowBasedKeyValueBatch: Calling spill() on RowBasedKeyValueBatch. Will not spill but return 0.\n",
      "22/10/13 16:19:54 WARN RowBasedKeyValueBatch: Calling spill() on RowBasedKeyValueBatch. Will not spill but return 0.\n",
      "22/10/13 16:19:54 WARN RowBasedKeyValueBatch: Calling spill() on RowBasedKeyValueBatch. Will not spill but return 0.\n",
      "22/10/13 16:19:54 WARN RowBasedKeyValueBatch: Calling spill() on RowBasedKeyValueBatch. Will not spill but return 0.\n",
      "22/10/13 16:19:54 WARN RowBasedKeyValueBatch: Calling spill() on RowBasedKeyValueBatch. Will not spill but return 0.\n",
      "22/10/13 16:19:54 WARN RowBasedKeyValueBatch: Calling spill() on RowBasedKeyValueBatch. Will not spill but return 0.\n",
      "22/10/13 16:19:54 WARN RowBasedKeyValueBatch: Calling spill() on RowBasedKeyValueBatch. Will not spill but return 0.\n",
      "22/10/13 16:19:54 WARN RowBasedKeyValueBatch: Calling spill() on RowBasedKeyValueBatch. Will not spill but return 0.\n",
      "22/10/13 16:19:54 WARN RowBasedKeyValueBatch: Calling spill() on RowBasedKeyValueBatch. Will not spill but return 0.\n",
      "22/10/13 16:19:54 WARN RowBasedKeyValueBatch: Calling spill() on RowBasedKeyValueBatch. Will not spill but return 0.\n",
      "22/10/13 16:19:54 WARN RowBasedKeyValueBatch: Calling spill() on RowBasedKeyValueBatch. Will not spill but return 0.\n",
      "22/10/13 16:19:54 WARN RowBasedKeyValueBatch: Calling spill() on RowBasedKeyValueBatch. Will not spill but return 0.\n",
      "22/10/13 16:19:54 WARN RowBasedKeyValueBatch: Calling spill() on RowBasedKeyValueBatch. Will not spill but return 0.\n",
      "22/10/13 16:19:54 WARN RowBasedKeyValueBatch: Calling spill() on RowBasedKeyValueBatch. Will not spill but return 0.\n",
      "22/10/13 16:19:54 WARN RowBasedKeyValueBatch: Calling spill() on RowBasedKeyValueBatch. Will not spill but return 0.\n",
      "22/10/13 16:19:54 WARN RowBasedKeyValueBatch: Calling spill() on RowBasedKeyValueBatch. Will not spill but return 0.\n",
      "22/10/13 16:19:54 WARN RowBasedKeyValueBatch: Calling spill() on RowBasedKeyValueBatch. Will not spill but return 0.\n",
      "22/10/13 16:19:54 WARN RowBasedKeyValueBatch: Calling spill() on RowBasedKeyValueBatch. Will not spill but return 0.\n",
      "22/10/13 16:19:54 WARN RowBasedKeyValueBatch: Calling spill() on RowBasedKeyValueBatch. Will not spill but return 0.\n",
      "/Users/ke/opt/anaconda3/envs/ML/lib/python3.9/site-packages/scipy/stats/_distn_infrastructure.py:1953: RuntimeWarning: invalid value encountered in double_scalars\n",
      "  x = np.asarray((x - loc)/scale, dtype=dtyp)\n",
      "/Users/ke/opt/anaconda3/envs/ML/lib/python3.9/site-packages/scipy/stats/_distn_infrastructure.py:1953: RuntimeWarning: invalid value encountered in double_scalars\n",
      "  x = np.asarray((x - loc)/scale, dtype=dtyp)\n"
     ]
    }
   ],
   "source": [
    "# use transaction 3 as normal data\n",
    "non_fraud_transaction_agg = transaction_df3.groupby(['merchant_abn','order_datetime','user_id']).agg(\n",
    "    F.countDistinct(F.col('order_id')).alias('no_order'),\n",
    "    F.sum(F.col('dollar_value')).alias('dollar_amount')\n",
    ") \n",
    "\n",
    "non_fraud_agg_sdf = non_fraud_transaction_agg.groupBy(['merchant_abn','order_datetime']).agg(\n",
    "     F.countDistinct(F.col('user_id')).alias('no_customer'),\n",
    "     F.sum(F.col(\"no_order\")).alias(\"total_order\"),\n",
    "     F.avg(F.col(\"dollar_amount\")).alias(\"avg_dollar_amount\"), # changed to avg for independence\n",
    ")\n",
    "\n",
    "non_fraud_agg_df = non_fraud_agg_sdf.toPandas()\n",
    "\n",
    "non_fraud_agg_join_df = all_time_agg_df.merge(non_fraud_agg_df, on=\"merchant_abn\")\n",
    "\n",
    "non_fraud_agg_join_df[\"no_order_p_val\"] = non_fraud_agg_join_df[['avg_daily_total_order','stddev_daily_total_order',\"total_order\"]].\\\n",
    "    apply(lambda row:one_side_p_val(row[0],row[1],row[2]),axis=1)\n",
    "\n",
    "non_fraud_agg_join_df[\"no_customer_p_val\"] = non_fraud_agg_join_df[['avg_daily_no_customer','stddev_daily_no_customer',\"no_customer\"]].\\\n",
    "    apply(lambda row:one_side_p_val(row[0],row[1],row[2]),axis=1)\n",
    "\n",
    "non_fraud_agg_join_df[\"avg_dollar_value_p_val\"] = non_fraud_agg_join_df[['avg_daily_avg_dollar_value','stddev_daily_avg_dollar_value',\"avg_dollar_amount\"]].\\\n",
    "    apply(lambda row:one_side_p_val(row[0],row[1],row[2]),axis=1)\n",
    "\n"
   ]
  },
  {
   "cell_type": "code",
   "execution_count": 34,
   "metadata": {},
   "outputs": [
    {
     "data": {
      "text/plain": [
       "(array([580., 527., 731., 796., 884., 762., 846., 805., 802., 792.]),\n",
       " array([2.52466936e-11, 4.99965905e-02, 9.99931810e-02, 1.49989772e-01,\n",
       "        1.99986362e-01, 2.49982953e-01, 2.99979543e-01, 3.49976134e-01,\n",
       "        3.99972724e-01, 4.49969314e-01, 4.99965905e-01]),\n",
       " <BarContainer object of 10 artists>)"
      ]
     },
     "execution_count": 34,
     "metadata": {},
     "output_type": "execute_result"
    },
    {
     "data": {
      "image/png": "[encoded data removed]",
      "text/plain": [
       "<Figure size 432x288 with 1 Axes>"
      ]
     },
     "metadata": {
      "needs_background": "light"
     },
     "output_type": "display_data"
    }
   ],
   "source": [
    "plt.hist(non_fraud_agg_join_df[\"avg_dollar_value_p_val\"])"
   ]
  },
  {
   "cell_type": "code",
   "execution_count": 35,
   "metadata": {},
   "outputs": [
    {
     "data": {
      "text/plain": [
       "(array([ 415.,  478.,  404.,  696.,  792., 1265., 1002.,  960.,  972.,\n",
       "         526.]),\n",
       " array([1.67111959e-08, 4.99560866e-02, 9.99121564e-02, 1.49868226e-01,\n",
       "        1.99824296e-01, 2.49780366e-01, 2.99736436e-01, 3.49692506e-01,\n",
       "        3.99648576e-01, 4.49604645e-01, 4.99560715e-01]),\n",
       " <BarContainer object of 10 artists>)"
      ]
     },
     "execution_count": 35,
     "metadata": {},
     "output_type": "execute_result"
    },
    {
     "data": {
      "image/png": "[encoded data removed]",
      "text/plain": [
       "<Figure size 432x288 with 1 Axes>"
      ]
     },
     "metadata": {
      "needs_background": "light"
     },
     "output_type": "display_data"
    }
   ],
   "source": [
    "plt.hist(non_fraud_agg_join_df[\"no_order_p_val\"])"
   ]
  },
  {
   "cell_type": "code",
   "execution_count": 36,
   "metadata": {},
   "outputs": [
    {
     "data": {
      "text/plain": [
       "(array([ 411.,  486.,  409.,  704.,  774., 1281.,  988.,  944.,  983.,\n",
       "         530.]),\n",
       " array([1.67111959e-08, 4.99512915e-02, 9.99025664e-02, 1.49853841e-01,\n",
       "        1.99805116e-01, 2.49756391e-01, 2.99707666e-01, 3.49658940e-01,\n",
       "        3.99610215e-01, 4.49561490e-01, 4.99512765e-01]),\n",
       " <BarContainer object of 10 artists>)"
      ]
     },
     "execution_count": 36,
     "metadata": {},
     "output_type": "execute_result"
    },
    {
     "data": {
      "image/png": "[encoded data removed]",
      "text/plain": [
       "<Figure size 432x288 with 1 Axes>"
      ]
     },
     "metadata": {
      "needs_background": "light"
     },
     "output_type": "display_data"
    }
   ],
   "source": [
    "plt.hist(non_fraud_agg_join_df[\"no_customer_p_val\"])"
   ]
  },
  {
   "cell_type": "markdown",
   "metadata": {},
   "source": [
    "dollar amount it self has a nice negtaive relation\n",
    "when we use joint prob it is almost uniformly distributed\n",
    "it appears to be the dollar amount is the most significant feature in terms of determine fraud probability\n",
    "\n",
    "This doesn't suggest that other features we have are noises. Maybe the other features contributes to distinguish the fraud from the normal ones."
   ]
  },
  {
   "cell_type": "markdown",
   "metadata": {},
   "source": [
    "## check interaction between consumer fraud and merchant fraud\n",
    "\n",
    "The question to answer is, are consumer fraud indicative of merchant fraud?"
   ]
  },
  {
   "cell_type": "code",
   "execution_count": 37,
   "metadata": {},
   "outputs": [],
   "source": [
    "# consumer: fraud_order_share, fraud_consumer_share, weighted_fraud_value_share\n",
    "consumer_fraud_sdf = spark.read.parquet(\"../../data/curated/consumer_fraud.parquet\")\n",
    "\n",
    "merchant_transaction_on_fraud_day = labeled_merchant_transaction.join(merchant_fraud_sdf.withColumnRenamed(\"fraud_probability\", \"merchant_fraud_prob\"),on=[\"merchant_abn\",\"order_datetime\"])\n",
    "\n",
    "# merchant_transaction_on_fraud_day_with_consumer_prob = merchant_transaction_on_fraud_day.join(consumer_fraud_sdf.withColumnRenamed(\"fraud_probability\",\"consumer_fraud_prob\").select(\"\"), on=\"order_datetime\"])\n",
    "\n",
    "merchant_agg_on_fraud_day = merchant_transaction_on_fraud_day.groupBy([\"merchant_abn\",\"order_datetime\"]).agg(\n",
    "    F.countDistinct(F.col('user_id')).alias('no_customer'),\n",
    "    F.countDistinct(F.col(\"order_id\")).alias(\"no_order\"),\n",
    "    F.sum(F.col(\"dollar_value\")).alias(\"sum_dollar_value\"), \n",
    ")"
   ]
  },
  {
   "cell_type": "code",
   "execution_count": 38,
   "metadata": {},
   "outputs": [],
   "source": [
    "fraud_transaction = merchant_transaction_on_fraud_day.join(consumer_fraud_sdf.withColumnRenamed(\"fraud_probability\",\"consumer_fraud_prob\").distinct(), on=[\"user_id\", \"order_datetime\"])\n"
   ]
  },
  {
   "cell_type": "code",
   "execution_count": 39,
   "metadata": {},
   "outputs": [
    {
     "data": {
      "text/plain": [
       "[Row(user_id=3101, order_datetime=datetime.date(2021, 4, 17), merchant_abn=91880575299, dollar_value=105193.88578925544, order_id='2ab65c8f-11b2-41cb-8889-001ce62c005d', log(dollar_value)=11.563560457722723, merchant_fraud_prob=32.99497823665355, consumer_fraud_prob=91.42192091901347)]"
      ]
     },
     "execution_count": 39,
     "metadata": {},
     "output_type": "execute_result"
    }
   ],
   "source": [
    "fraud_transaction.head(1)"
   ]
  },
  {
   "cell_type": "code",
   "execution_count": 40,
   "metadata": {},
   "outputs": [],
   "source": [
    "fraud_transaction_agg = fraud_transaction.groupBy([\"merchant_abn\",\"order_datetime\"]).agg(\n",
    "    F.sum(F.col(\"consumer_fraud_prob\") * F.col(\"dollar_value\")*0.01).alias(\"weighted_fraud_value\"),\n",
    "    F.countDistinct(F.col(\"user_id\")).alias(\"no_fraud_consumer\"),\n",
    "    F.countDistinct(F.col(\"order_id\")).alias(\"no_fraud_order\"),\n",
    "    F.mean(F.col(\"merchant_fraud_prob\")).alias(\"merchant_fraud_prob\"),   # any other way to work around this? want to preserve merchant_fraud_prob\n",
    "    F.sum(F.col(\"consumer_fraud_prob\")*0.01).alias(\"no_fraud_order_weighted\"),\n",
    ")"
   ]
  },
  {
   "cell_type": "code",
   "execution_count": 41,
   "metadata": {},
   "outputs": [],
   "source": [
    "merchant_fraud_share_agg = merchant_agg_on_fraud_day.join(fraud_transaction_agg, on=[\"merchant_abn\",\"order_datetime\"])\\\n",
    "    .withColumn(\n",
    "        'fraud_customer_share',\n",
    "        F.col(\"no_fraud_consumer\")/F.col('no_customer')\n",
    "    ).withColumn(\n",
    "        'fraud_order_share',\n",
    "        F.col(\"no_fraud_order_weighted\")/F.col('no_order')\n",
    "    ).withColumn(\n",
    "        'weighted_fraud_value_share',\n",
    "        F.col(\"weighted_fraud_value\")/F.col('sum_dollar_value')\n",
    "    )\n"
   ]
  },
  {
   "cell_type": "code",
   "execution_count": 42,
   "metadata": {},
   "outputs": [
    {
     "name": "stderr",
     "output_type": "stream",
     "text": [
      "                                                                                \r"
     ]
    }
   ],
   "source": [
    "merchant_fraud_share_agg_df = merchant_fraud_share_agg.toPandas()"
   ]
  },
  {
   "cell_type": "code",
   "execution_count": 43,
   "metadata": {},
   "outputs": [
    {
     "data": {
      "text/html": [
       "<div>\n",
       "<style scoped>\n",
       "    .dataframe tbody tr th:only-of-type {\n",
       "        vertical-align: middle;\n",
       "    }\n",
       "\n",
       "    .dataframe tbody tr th {\n",
       "        vertical-align: top;\n",
       "    }\n",
       "\n",
       "    .dataframe thead th {\n",
       "        text-align: right;\n",
       "    }\n",
       "</style>\n",
       "<table border=\"1\" class=\"dataframe\">\n",
       "  <thead>\n",
       "    <tr style=\"text-align: right;\">\n",
       "      <th></th>\n",
       "      <th>merchant_abn</th>\n",
       "      <th>order_datetime</th>\n",
       "      <th>no_customer</th>\n",
       "      <th>no_order</th>\n",
       "      <th>sum_dollar_value</th>\n",
       "      <th>weighted_fraud_value</th>\n",
       "      <th>no_fraud_consumer</th>\n",
       "      <th>no_fraud_order</th>\n",
       "      <th>merchant_fraud_prob</th>\n",
       "      <th>no_fraud_order_weighted</th>\n",
       "      <th>fraud_customer_share</th>\n",
       "      <th>fraud_order_share</th>\n",
       "      <th>weighted_fraud_value_share</th>\n",
       "    </tr>\n",
       "  </thead>\n",
       "  <tbody>\n",
       "    <tr>\n",
       "      <th>0</th>\n",
       "      <td>11149063370</td>\n",
       "      <td>2021-08-28</td>\n",
       "      <td>1</td>\n",
       "      <td>1</td>\n",
       "      <td>47346.113374</td>\n",
       "      <td>40851.783402</td>\n",
       "      <td>1</td>\n",
       "      <td>1</td>\n",
       "      <td>56.437613</td>\n",
       "      <td>0.862833</td>\n",
       "      <td>1.0</td>\n",
       "      <td>0.862833</td>\n",
       "      <td>0.862833</td>\n",
       "    </tr>\n",
       "  </tbody>\n",
       "</table>\n",
       "</div>"
      ],
      "text/plain": [
       "   merchant_abn order_datetime  no_customer  no_order  sum_dollar_value  \\\n",
       "0   11149063370     2021-08-28            1         1      47346.113374   \n",
       "\n",
       "   weighted_fraud_value  no_fraud_consumer  no_fraud_order  \\\n",
       "0          40851.783402                  1               1   \n",
       "\n",
       "   merchant_fraud_prob  no_fraud_order_weighted  fraud_customer_share  \\\n",
       "0            56.437613                 0.862833                   1.0   \n",
       "\n",
       "   fraud_order_share  weighted_fraud_value_share  \n",
       "0           0.862833                    0.862833  "
      ]
     },
     "execution_count": 43,
     "metadata": {},
     "output_type": "execute_result"
    }
   ],
   "source": [
    "merchant_fraud_share_agg_df.head(1)"
   ]
  },
  {
   "cell_type": "code",
   "execution_count": 44,
   "metadata": {},
   "outputs": [
    {
     "data": {
      "text/plain": [
       "<matplotlib.collections.PathCollection at 0x7f7f5d135be0>"
      ]
     },
     "execution_count": 44,
     "metadata": {},
     "output_type": "execute_result"
    },
    {
     "data": {
      "image/png": "[encoded data removed]",
      "text/plain": [
       "<Figure size 432x288 with 1 Axes>"
      ]
     },
     "metadata": {
      "needs_background": "light"
     },
     "output_type": "display_data"
    }
   ],
   "source": [
    "# plot the plots\n",
    "plt.scatter(merchant_fraud_share_agg_df[\"fraud_customer_share\"], merchant_fraud_share_agg_df[\"merchant_fraud_prob\"])"
   ]
  },
  {
   "cell_type": "code",
   "execution_count": 45,
   "metadata": {},
   "outputs": [
    {
     "data": {
      "text/plain": [
       "<matplotlib.collections.PathCollection at 0x7f7f6941d730>"
      ]
     },
     "execution_count": 45,
     "metadata": {},
     "output_type": "execute_result"
    },
    {
     "data": {
      "image/png": "[encoded data removed]",
      "text/plain": [
       "<Figure size 432x288 with 1 Axes>"
      ]
     },
     "metadata": {
      "needs_background": "light"
     },
     "output_type": "display_data"
    }
   ],
   "source": [
    "plt.scatter(merchant_fraud_share_agg_df[\"fraud_order_share\"], merchant_fraud_share_agg_df[\"merchant_fraud_prob\"])"
   ]
  },
  {
   "cell_type": "code",
   "execution_count": 46,
   "metadata": {},
   "outputs": [
    {
     "data": {
      "text/plain": [
       "<matplotlib.collections.PathCollection at 0x7f7f69546730>"
      ]
     },
     "execution_count": 46,
     "metadata": {},
     "output_type": "execute_result"
    },
    {
     "data": {
      "image/png": "[encoded data removed]",
      "text/plain": [
       "<Figure size 432x288 with 1 Axes>"
      ]
     },
     "metadata": {
      "needs_background": "light"
     },
     "output_type": "display_data"
    }
   ],
   "source": [
    "plt.scatter(merchant_fraud_share_agg_df[\"weighted_fraud_value_share\"], merchant_fraud_share_agg_df[\"merchant_fraud_prob\"])"
   ]
  },
  {
   "cell_type": "markdown",
   "metadata": {},
   "source": [
    "Interaction between fraud consumer and merchant fraud is not obvious"
   ]
  }
 ],
 "metadata": {
  "interpreter": {
   "hash": "6a51a4850383970a9d31be9f5e2bfc463bf284d7bc14ecdb113d3b740d850690"
  },
  "kernelspec": {
   "display_name": "Python 3",
   "language": "python",
   "name": "python3"
  },
  "language_info": {
   "codemirror_mode": {
    "name": "ipython",
    "version": 3
   },
   "file_extension": ".py",
   "mimetype": "text/x-python",
   "name": "python",
   "nbconvert_exporter": "python",
   "pygments_lexer": "ipython3",
   "version": "3.7.4"
  }
 },
 "nbformat": 4,
 "nbformat_minor": 2
}
